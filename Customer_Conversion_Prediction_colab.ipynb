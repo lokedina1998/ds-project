{
  "cells": [
    {
      "cell_type": "markdown",
      "metadata": {
        "id": "view-in-github",
        "colab_type": "text"
      },
      "source": [
        "<a href=\"https://colab.research.google.com/github/lokedina1998/ds-project/blob/main/Customer_Conversion_Prediction_colab.ipynb\" target=\"_parent\"><img src=\"https://colab.research.google.com/assets/colab-badge.svg\" alt=\"Open In Colab\"/></a>"
      ]
    },
    {
      "cell_type": "markdown",
      "metadata": {
        "id": "d4co3_i434-C"
      },
      "source": [
        "##### Copyright 2020 The Cirq Developers"
      ]
    },
    {
      "cell_type": "code",
      "source": [
        "import pandas as pd\n",
        "import numpy as np\n",
        "import matplotlib.pyplot as plt\n",
        "import seaborn as sns"
      ],
      "metadata": {
        "id": "q8Yc5ysigDTB"
      },
      "execution_count": null,
      "outputs": []
    },
    {
      "cell_type": "code",
      "source": [
        "df=pd.read_csv(\"/content/train.csv\")"
      ],
      "metadata": {
        "id": "idrHOjt7gDWy"
      },
      "execution_count": null,
      "outputs": []
    },
    {
      "cell_type": "code",
      "source": [
        "df.head(10)"
      ],
      "metadata": {
        "id": "2fBJ6e5IgDcX",
        "outputId": "9df2d459-2d74-44eb-83d8-490022ac365d",
        "colab": {
          "base_uri": "https://localhost:8080/",
          "height": 363
        }
      },
      "execution_count": null,
      "outputs": [
        {
          "output_type": "execute_result",
          "data": {
            "text/plain": [
              "   age           job   marital education_qual  call_type  day  mon  dur  \\\n",
              "0   58    management   married       tertiary        NaN    5  may  261   \n",
              "1   44    technician    single      secondary        NaN    5  may  151   \n",
              "2   33  entrepreneur   married      secondary        NaN    5  may   76   \n",
              "3   47   blue-collar   married        unknown        NaN    5  may   92   \n",
              "4   33       unknown    single        unknown        NaN    5  may  198   \n",
              "5   35    management   married       tertiary        NaN    5  may  139   \n",
              "6   28    management    single       tertiary        NaN    5  may  217   \n",
              "7   42  entrepreneur  divorced       tertiary        NaN    5  may  380   \n",
              "8   58       retired   married        primary        NaN    5  may   50   \n",
              "9   43    technician    single      secondary        NaN    5  may   55   \n",
              "\n",
              "   num_calls prev_outcome   y  \n",
              "0          1      unknown  no  \n",
              "1          1      unknown  no  \n",
              "2          1      unknown  no  \n",
              "3          1      unknown  no  \n",
              "4          1      unknown  no  \n",
              "5          1      unknown  no  \n",
              "6          1      unknown  no  \n",
              "7          1      unknown  no  \n",
              "8          1      unknown  no  \n",
              "9          1      unknown  no  "
            ],
            "text/html": [
              "\n",
              "  <div id=\"df-3a2c8a03-ab9f-400a-b657-a23cb3117e83\">\n",
              "    <div class=\"colab-df-container\">\n",
              "      <div>\n",
              "<style scoped>\n",
              "    .dataframe tbody tr th:only-of-type {\n",
              "        vertical-align: middle;\n",
              "    }\n",
              "\n",
              "    .dataframe tbody tr th {\n",
              "        vertical-align: top;\n",
              "    }\n",
              "\n",
              "    .dataframe thead th {\n",
              "        text-align: right;\n",
              "    }\n",
              "</style>\n",
              "<table border=\"1\" class=\"dataframe\">\n",
              "  <thead>\n",
              "    <tr style=\"text-align: right;\">\n",
              "      <th></th>\n",
              "      <th>age</th>\n",
              "      <th>job</th>\n",
              "      <th>marital</th>\n",
              "      <th>education_qual</th>\n",
              "      <th>call_type</th>\n",
              "      <th>day</th>\n",
              "      <th>mon</th>\n",
              "      <th>dur</th>\n",
              "      <th>num_calls</th>\n",
              "      <th>prev_outcome</th>\n",
              "      <th>y</th>\n",
              "    </tr>\n",
              "  </thead>\n",
              "  <tbody>\n",
              "    <tr>\n",
              "      <th>0</th>\n",
              "      <td>58</td>\n",
              "      <td>management</td>\n",
              "      <td>married</td>\n",
              "      <td>tertiary</td>\n",
              "      <td>NaN</td>\n",
              "      <td>5</td>\n",
              "      <td>may</td>\n",
              "      <td>261</td>\n",
              "      <td>1</td>\n",
              "      <td>unknown</td>\n",
              "      <td>no</td>\n",
              "    </tr>\n",
              "    <tr>\n",
              "      <th>1</th>\n",
              "      <td>44</td>\n",
              "      <td>technician</td>\n",
              "      <td>single</td>\n",
              "      <td>secondary</td>\n",
              "      <td>NaN</td>\n",
              "      <td>5</td>\n",
              "      <td>may</td>\n",
              "      <td>151</td>\n",
              "      <td>1</td>\n",
              "      <td>unknown</td>\n",
              "      <td>no</td>\n",
              "    </tr>\n",
              "    <tr>\n",
              "      <th>2</th>\n",
              "      <td>33</td>\n",
              "      <td>entrepreneur</td>\n",
              "      <td>married</td>\n",
              "      <td>secondary</td>\n",
              "      <td>NaN</td>\n",
              "      <td>5</td>\n",
              "      <td>may</td>\n",
              "      <td>76</td>\n",
              "      <td>1</td>\n",
              "      <td>unknown</td>\n",
              "      <td>no</td>\n",
              "    </tr>\n",
              "    <tr>\n",
              "      <th>3</th>\n",
              "      <td>47</td>\n",
              "      <td>blue-collar</td>\n",
              "      <td>married</td>\n",
              "      <td>unknown</td>\n",
              "      <td>NaN</td>\n",
              "      <td>5</td>\n",
              "      <td>may</td>\n",
              "      <td>92</td>\n",
              "      <td>1</td>\n",
              "      <td>unknown</td>\n",
              "      <td>no</td>\n",
              "    </tr>\n",
              "    <tr>\n",
              "      <th>4</th>\n",
              "      <td>33</td>\n",
              "      <td>unknown</td>\n",
              "      <td>single</td>\n",
              "      <td>unknown</td>\n",
              "      <td>NaN</td>\n",
              "      <td>5</td>\n",
              "      <td>may</td>\n",
              "      <td>198</td>\n",
              "      <td>1</td>\n",
              "      <td>unknown</td>\n",
              "      <td>no</td>\n",
              "    </tr>\n",
              "    <tr>\n",
              "      <th>5</th>\n",
              "      <td>35</td>\n",
              "      <td>management</td>\n",
              "      <td>married</td>\n",
              "      <td>tertiary</td>\n",
              "      <td>NaN</td>\n",
              "      <td>5</td>\n",
              "      <td>may</td>\n",
              "      <td>139</td>\n",
              "      <td>1</td>\n",
              "      <td>unknown</td>\n",
              "      <td>no</td>\n",
              "    </tr>\n",
              "    <tr>\n",
              "      <th>6</th>\n",
              "      <td>28</td>\n",
              "      <td>management</td>\n",
              "      <td>single</td>\n",
              "      <td>tertiary</td>\n",
              "      <td>NaN</td>\n",
              "      <td>5</td>\n",
              "      <td>may</td>\n",
              "      <td>217</td>\n",
              "      <td>1</td>\n",
              "      <td>unknown</td>\n",
              "      <td>no</td>\n",
              "    </tr>\n",
              "    <tr>\n",
              "      <th>7</th>\n",
              "      <td>42</td>\n",
              "      <td>entrepreneur</td>\n",
              "      <td>divorced</td>\n",
              "      <td>tertiary</td>\n",
              "      <td>NaN</td>\n",
              "      <td>5</td>\n",
              "      <td>may</td>\n",
              "      <td>380</td>\n",
              "      <td>1</td>\n",
              "      <td>unknown</td>\n",
              "      <td>no</td>\n",
              "    </tr>\n",
              "    <tr>\n",
              "      <th>8</th>\n",
              "      <td>58</td>\n",
              "      <td>retired</td>\n",
              "      <td>married</td>\n",
              "      <td>primary</td>\n",
              "      <td>NaN</td>\n",
              "      <td>5</td>\n",
              "      <td>may</td>\n",
              "      <td>50</td>\n",
              "      <td>1</td>\n",
              "      <td>unknown</td>\n",
              "      <td>no</td>\n",
              "    </tr>\n",
              "    <tr>\n",
              "      <th>9</th>\n",
              "      <td>43</td>\n",
              "      <td>technician</td>\n",
              "      <td>single</td>\n",
              "      <td>secondary</td>\n",
              "      <td>NaN</td>\n",
              "      <td>5</td>\n",
              "      <td>may</td>\n",
              "      <td>55</td>\n",
              "      <td>1</td>\n",
              "      <td>unknown</td>\n",
              "      <td>no</td>\n",
              "    </tr>\n",
              "  </tbody>\n",
              "</table>\n",
              "</div>\n",
              "      <button class=\"colab-df-convert\" onclick=\"convertToInteractive('df-3a2c8a03-ab9f-400a-b657-a23cb3117e83')\"\n",
              "              title=\"Convert this dataframe to an interactive table.\"\n",
              "              style=\"display:none;\">\n",
              "        \n",
              "  <svg xmlns=\"http://www.w3.org/2000/svg\" height=\"24px\"viewBox=\"0 0 24 24\"\n",
              "       width=\"24px\">\n",
              "    <path d=\"M0 0h24v24H0V0z\" fill=\"none\"/>\n",
              "    <path d=\"M18.56 5.44l.94 2.06.94-2.06 2.06-.94-2.06-.94-.94-2.06-.94 2.06-2.06.94zm-11 1L8.5 8.5l.94-2.06 2.06-.94-2.06-.94L8.5 2.5l-.94 2.06-2.06.94zm10 10l.94 2.06.94-2.06 2.06-.94-2.06-.94-.94-2.06-.94 2.06-2.06.94z\"/><path d=\"M17.41 7.96l-1.37-1.37c-.4-.4-.92-.59-1.43-.59-.52 0-1.04.2-1.43.59L10.3 9.45l-7.72 7.72c-.78.78-.78 2.05 0 2.83L4 21.41c.39.39.9.59 1.41.59.51 0 1.02-.2 1.41-.59l7.78-7.78 2.81-2.81c.8-.78.8-2.07 0-2.86zM5.41 20L4 18.59l7.72-7.72 1.47 1.35L5.41 20z\"/>\n",
              "  </svg>\n",
              "      </button>\n",
              "      \n",
              "  <style>\n",
              "    .colab-df-container {\n",
              "      display:flex;\n",
              "      flex-wrap:wrap;\n",
              "      gap: 12px;\n",
              "    }\n",
              "\n",
              "    .colab-df-convert {\n",
              "      background-color: #E8F0FE;\n",
              "      border: none;\n",
              "      border-radius: 50%;\n",
              "      cursor: pointer;\n",
              "      display: none;\n",
              "      fill: #1967D2;\n",
              "      height: 32px;\n",
              "      padding: 0 0 0 0;\n",
              "      width: 32px;\n",
              "    }\n",
              "\n",
              "    .colab-df-convert:hover {\n",
              "      background-color: #E2EBFA;\n",
              "      box-shadow: 0px 1px 2px rgba(60, 64, 67, 0.3), 0px 1px 3px 1px rgba(60, 64, 67, 0.15);\n",
              "      fill: #174EA6;\n",
              "    }\n",
              "\n",
              "    [theme=dark] .colab-df-convert {\n",
              "      background-color: #3B4455;\n",
              "      fill: #D2E3FC;\n",
              "    }\n",
              "\n",
              "    [theme=dark] .colab-df-convert:hover {\n",
              "      background-color: #434B5C;\n",
              "      box-shadow: 0px 1px 3px 1px rgba(0, 0, 0, 0.15);\n",
              "      filter: drop-shadow(0px 1px 2px rgba(0, 0, 0, 0.3));\n",
              "      fill: #FFFFFF;\n",
              "    }\n",
              "  </style>\n",
              "\n",
              "      <script>\n",
              "        const buttonEl =\n",
              "          document.querySelector('#df-3a2c8a03-ab9f-400a-b657-a23cb3117e83 button.colab-df-convert');\n",
              "        buttonEl.style.display =\n",
              "          google.colab.kernel.accessAllowed ? 'block' : 'none';\n",
              "\n",
              "        async function convertToInteractive(key) {\n",
              "          const element = document.querySelector('#df-3a2c8a03-ab9f-400a-b657-a23cb3117e83');\n",
              "          const dataTable =\n",
              "            await google.colab.kernel.invokeFunction('convertToInteractive',\n",
              "                                                     [key], {});\n",
              "          if (!dataTable) return;\n",
              "\n",
              "          const docLinkHtml = 'Like what you see? Visit the ' +\n",
              "            '<a target=\"_blank\" href=https://colab.research.google.com/notebooks/data_table.ipynb>data table notebook</a>'\n",
              "            + ' to learn more about interactive tables.';\n",
              "          element.innerHTML = '';\n",
              "          dataTable['output_type'] = 'display_data';\n",
              "          await google.colab.output.renderOutput(dataTable, element);\n",
              "          const docLink = document.createElement('div');\n",
              "          docLink.innerHTML = docLinkHtml;\n",
              "          element.appendChild(docLink);\n",
              "        }\n",
              "      </script>\n",
              "    </div>\n",
              "  </div>\n",
              "  "
            ]
          },
          "metadata": {},
          "execution_count": 139
        }
      ]
    },
    {
      "cell_type": "code",
      "source": [
        "df.columns"
      ],
      "metadata": {
        "colab": {
          "base_uri": "https://localhost:8080/"
        },
        "id": "22NoDvKnCUpH",
        "outputId": "8ddcc576-a812-4b25-f762-a5343626ca5e"
      },
      "execution_count": null,
      "outputs": [
        {
          "output_type": "execute_result",
          "data": {
            "text/plain": [
              "Index(['age', 'job', 'marital', 'education_qual', 'call_type', 'day', 'mon',\n",
              "       'dur', 'num_calls', 'prev_outcome', 'y'],\n",
              "      dtype='object')"
            ]
          },
          "metadata": {},
          "execution_count": 110
        }
      ]
    },
    {
      "cell_type": "code",
      "source": [
        "df.shape"
      ],
      "metadata": {
        "id": "--vmWuF_gDhm",
        "outputId": "6ab8ef71-1fbe-4a5e-999f-c152af9a9b83",
        "colab": {
          "base_uri": "https://localhost:8080/"
        }
      },
      "execution_count": null,
      "outputs": [
        {
          "output_type": "execute_result",
          "data": {
            "text/plain": [
              "(45211, 11)"
            ]
          },
          "metadata": {},
          "execution_count": 81
        }
      ]
    },
    {
      "cell_type": "code",
      "source": [
        "df.isnull().sum()"
      ],
      "metadata": {
        "id": "I_--bNp3gDlS",
        "outputId": "05ff10b7-1b8a-4094-bd34-1f2aee28ad6c",
        "colab": {
          "base_uri": "https://localhost:8080/"
        }
      },
      "execution_count": null,
      "outputs": [
        {
          "output_type": "execute_result",
          "data": {
            "text/plain": [
              "age               0\n",
              "job               0\n",
              "marital           0\n",
              "education_qual    0\n",
              "call_type         0\n",
              "day               0\n",
              "mon               0\n",
              "dur               0\n",
              "num_calls         0\n",
              "prev_outcome      0\n",
              "y                 0\n",
              "dtype: int64"
            ]
          },
          "metadata": {},
          "execution_count": 82
        }
      ]
    },
    {
      "cell_type": "code",
      "source": [
        "df.dtypes"
      ],
      "metadata": {
        "id": "3OfJQHm3gEDJ",
        "outputId": "b540d487-d2c4-40f4-ecdc-f3afef889273",
        "colab": {
          "base_uri": "https://localhost:8080/"
        }
      },
      "execution_count": null,
      "outputs": [
        {
          "output_type": "execute_result",
          "data": {
            "text/plain": [
              "age                int64\n",
              "job               object\n",
              "marital           object\n",
              "education_qual    object\n",
              "call_type         object\n",
              "day                int64\n",
              "mon               object\n",
              "dur                int64\n",
              "num_calls          int64\n",
              "prev_outcome      object\n",
              "y                 object\n",
              "dtype: object"
            ]
          },
          "metadata": {},
          "execution_count": 83
        }
      ]
    },
    {
      "cell_type": "code",
      "source": [
        "df[\"y\"].value_counts()"
      ],
      "metadata": {
        "id": "jNjLdtI4gEG-",
        "outputId": "f96bac11-912c-4dec-9232-9e62398aa66f",
        "colab": {
          "base_uri": "https://localhost:8080/"
        }
      },
      "execution_count": null,
      "outputs": [
        {
          "output_type": "execute_result",
          "data": {
            "text/plain": [
              "no     39922\n",
              "yes     5289\n",
              "Name: y, dtype: int64"
            ]
          },
          "metadata": {},
          "execution_count": 84
        }
      ]
    },
    {
      "cell_type": "code",
      "source": [
        "df[\"call_type\"].value_counts()"
      ],
      "metadata": {
        "id": "K2d2gUE5gEK5",
        "outputId": "fbe1f9de-141d-4685-e732-b1f1b592af95",
        "colab": {
          "base_uri": "https://localhost:8080/"
        }
      },
      "execution_count": null,
      "outputs": [
        {
          "output_type": "execute_result",
          "data": {
            "text/plain": [
              "cellular     29285\n",
              "unknown      13020\n",
              "telephone     2906\n",
              "Name: call_type, dtype: int64"
            ]
          },
          "metadata": {},
          "execution_count": 85
        }
      ]
    },
    {
      "cell_type": "code",
      "source": [
        "df[\"marital\"].value_counts()"
      ],
      "metadata": {
        "id": "tvakCdq_hdXo",
        "outputId": "d421973d-36fa-46b1-bb21-f72c042ddeca",
        "colab": {
          "base_uri": "https://localhost:8080/"
        }
      },
      "execution_count": null,
      "outputs": [
        {
          "output_type": "execute_result",
          "data": {
            "text/plain": [
              "married     27214\n",
              "single      12790\n",
              "divorced     5207\n",
              "Name: marital, dtype: int64"
            ]
          },
          "metadata": {},
          "execution_count": 86
        }
      ]
    },
    {
      "cell_type": "code",
      "source": [
        "df[\"mon\"].value_counts()"
      ],
      "metadata": {
        "id": "LzG90T55hdT8",
        "outputId": "df4c3e69-b842-4b9f-97b8-87b45a7a1cce",
        "colab": {
          "base_uri": "https://localhost:8080/"
        }
      },
      "execution_count": null,
      "outputs": [
        {
          "output_type": "execute_result",
          "data": {
            "text/plain": [
              "may    13766\n",
              "jul     6895\n",
              "aug     6247\n",
              "jun     5341\n",
              "nov     3970\n",
              "apr     2932\n",
              "feb     2649\n",
              "jan     1403\n",
              "oct      738\n",
              "sep      579\n",
              "mar      477\n",
              "dec      214\n",
              "Name: mon, dtype: int64"
            ]
          },
          "metadata": {},
          "execution_count": 87
        }
      ]
    },
    {
      "cell_type": "code",
      "source": [
        "df.call_type=df.call_type.map({\"cellular\":0,\"telephone\":1,\"unknows\":0})"
      ],
      "metadata": {
        "id": "xmH31_y-hdNW"
      },
      "execution_count": null,
      "outputs": []
    },
    {
      "cell_type": "code",
      "source": [
        "df.y.value_counts()"
      ],
      "metadata": {
        "id": "p07yE-aShdHw",
        "outputId": "371f2db9-67f9-4020-fcda-9039d4bcab0e",
        "colab": {
          "base_uri": "https://localhost:8080/"
        }
      },
      "execution_count": null,
      "outputs": [
        {
          "output_type": "execute_result",
          "data": {
            "text/plain": [
              "no     39922\n",
              "yes     5289\n",
              "Name: y, dtype: int64"
            ]
          },
          "metadata": {},
          "execution_count": 89
        }
      ]
    },
    {
      "cell_type": "code",
      "source": [
        "df.job.value_counts()"
      ],
      "metadata": {
        "id": "Ob1xkcKnhdBg",
        "outputId": "ec0b0be5-b03f-45e2-d6b0-2222113c35f4",
        "colab": {
          "base_uri": "https://localhost:8080/"
        }
      },
      "execution_count": null,
      "outputs": [
        {
          "output_type": "execute_result",
          "data": {
            "text/plain": [
              "blue-collar      9732\n",
              "management       9458\n",
              "technician       7597\n",
              "admin.           5171\n",
              "services         4154\n",
              "retired          2264\n",
              "self-employed    1579\n",
              "entrepreneur     1487\n",
              "unemployed       1303\n",
              "housemaid        1240\n",
              "student           938\n",
              "unknown           288\n",
              "Name: job, dtype: int64"
            ]
          },
          "metadata": {},
          "execution_count": 90
        }
      ]
    },
    {
      "cell_type": "code",
      "source": [
        "df[\"call_type\"].value_counts()"
      ],
      "metadata": {
        "id": "43UC3EAZhc90",
        "colab": {
          "base_uri": "https://localhost:8080/"
        },
        "outputId": "68736270-3833-4db2-ff05-f5c8fc6e2490"
      },
      "execution_count": null,
      "outputs": [
        {
          "output_type": "execute_result",
          "data": {
            "text/plain": [
              "0.0    29285\n",
              "1.0     2906\n",
              "Name: call_type, dtype: int64"
            ]
          },
          "metadata": {},
          "execution_count": 91
        }
      ]
    },
    {
      "cell_type": "code",
      "source": [
        "df.education_qual.value_counts()"
      ],
      "metadata": {
        "id": "zu-NoMlDhczv",
        "colab": {
          "base_uri": "https://localhost:8080/"
        },
        "outputId": "ad00649d-4f01-4c0a-e097-33e09ea25e65"
      },
      "execution_count": null,
      "outputs": [
        {
          "output_type": "execute_result",
          "data": {
            "text/plain": [
              "secondary    23202\n",
              "tertiary     13301\n",
              "primary       6851\n",
              "unknown       1857\n",
              "Name: education_qual, dtype: int64"
            ]
          },
          "metadata": {},
          "execution_count": 92
        }
      ]
    },
    {
      "cell_type": "code",
      "source": [
        "df[\"y\"].value_counts()[1]"
      ],
      "metadata": {
        "colab": {
          "base_uri": "https://localhost:8080/"
        },
        "id": "7nwNe4yu6Jpw",
        "outputId": "dfe67bdf-9887-4f65-cd6a-28c71b2b94bc"
      },
      "execution_count": null,
      "outputs": [
        {
          "output_type": "execute_result",
          "data": {
            "text/plain": [
              "5289"
            ]
          },
          "metadata": {},
          "execution_count": 93
        }
      ]
    },
    {
      "cell_type": "code",
      "source": [
        "df[df[\"prev_outcome\"]==\"success\"].y.value_counts()[0]"
      ],
      "metadata": {
        "colab": {
          "base_uri": "https://localhost:8080/"
        },
        "id": "Bc6xI5fE6Jhc",
        "outputId": "3bb2df8f-5204-410e-ba66-b90378e5549d"
      },
      "execution_count": null,
      "outputs": [
        {
          "output_type": "execute_result",
          "data": {
            "text/plain": [
              "978"
            ]
          },
          "metadata": {},
          "execution_count": 94
        }
      ]
    },
    {
      "cell_type": "code",
      "source": [
        "969/5255"
      ],
      "metadata": {
        "colab": {
          "base_uri": "https://localhost:8080/"
        },
        "id": "P8Cub9Ic6Jdj",
        "outputId": "fbc304e9-5d64-4b90-ece9-bdb6d68e9e73"
      },
      "execution_count": null,
      "outputs": [
        {
          "output_type": "execute_result",
          "data": {
            "text/plain": [
              "0.18439581351094195"
            ]
          },
          "metadata": {},
          "execution_count": 95
        }
      ]
    },
    {
      "cell_type": "code",
      "source": [
        "#scatter plot\n",
        "plt.scatter(df['dur'], df['mon']);"
      ],
      "metadata": {
        "colab": {
          "base_uri": "https://localhost:8080/",
          "height": 265
        },
        "id": "oohSjXcY6JRC",
        "outputId": "7f481aba-ff37-4046-c3b9-096d5299f4c4"
      },
      "execution_count": null,
      "outputs": [
        {
          "output_type": "display_data",
          "data": {
            "text/plain": [
              "<Figure size 432x288 with 1 Axes>"
            ],
            "image/png": "[encoded data removed]"
          },
          "metadata": {
            "needs_background": "light"
          }
        }
      ]
    },
    {
      "cell_type": "code",
      "source": [
        "sns.barplot(x='num_calls', y='y', data=df, ci=None)"
      ],
      "metadata": {
        "colab": {
          "base_uri": "https://localhost:8080/",
          "height": 298
        },
        "id": "Xvpi8wnxAbK2",
        "outputId": "aa7356d4-99c3-440b-cedb-2d01bc937a07"
      },
      "execution_count": null,
      "outputs": [
        {
          "output_type": "execute_result",
          "data": {
            "text/plain": [
              "<AxesSubplot:xlabel='num_calls', ylabel='y'>"
            ]
          },
          "metadata": {},
          "execution_count": 106
        },
        {
          "output_type": "display_data",
          "data": {
            "text/plain": [
              "<Figure size 432x288 with 1 Axes>"
            ],
            "image/png": "[encoded data removed]"
          },
          "metadata": {
            "needs_background": "light"
          }
        }
      ]
    },
    {
      "cell_type": "code",
      "source": [
        "df.groupby(\"job\")[\"num_calls\"].mean().sort_values().plot(kind=\"barh\")"
      ],
      "metadata": {
        "colab": {
          "base_uri": "https://localhost:8080/",
          "height": 283
        },
        "id": "p4PItsm2AbPm",
        "outputId": "3d238bec-eeab-4883-b1e1-9bfaa6187207"
      },
      "execution_count": null,
      "outputs": [
        {
          "output_type": "execute_result",
          "data": {
            "text/plain": [
              "<AxesSubplot:ylabel='job'>"
            ]
          },
          "metadata": {},
          "execution_count": 113
        },
        {
          "output_type": "display_data",
          "data": {
            "text/plain": [
              "<Figure size 432x288 with 1 Axes>"
            ],
            "image/png": "[encoded data removed]"
          },
          "metadata": {
            "needs_background": "light"
          }
        }
      ]
    },
    {
      "cell_type": "code",
      "source": [
        "plt.scatter(df['age'],df['dur'])"
      ],
      "metadata": {
        "colab": {
          "base_uri": "https://localhost:8080/",
          "height": 283
        },
        "id": "AKrvl4UrCw69",
        "outputId": "722b1927-a291-4444-9433-9f17b2db5921"
      },
      "execution_count": null,
      "outputs": [
        {
          "output_type": "execute_result",
          "data": {
            "text/plain": [
              "<matplotlib.collections.PathCollection at 0x7f36eff12fd0>"
            ]
          },
          "metadata": {},
          "execution_count": 119
        },
        {
          "output_type": "display_data",
          "data": {
            "text/plain": [
              "<Figure size 432x288 with 1 Axes>"
            ],
            "image/png": "[encoded data removed]"
          },
          "metadata": {
            "needs_background": "light"
          }
        }
      ]
    },
    {
      "cell_type": "code",
      "source": [
        "sns.barplot(x='dur', y='day', data=df, ci=None)"
      ],
      "metadata": {
        "colab": {
          "base_uri": "https://localhost:8080/",
          "height": 297
        },
        "id": "azVBRaCAEBxF",
        "outputId": "2ee201fc-f42c-46da-9395-29ded8060138"
      },
      "execution_count": null,
      "outputs": [
        {
          "output_type": "execute_result",
          "data": {
            "text/plain": [
              "<AxesSubplot:xlabel='dur', ylabel='day'>"
            ]
          },
          "metadata": {},
          "execution_count": 126
        },
        {
          "output_type": "display_data",
          "data": {
            "text/plain": [
              "<Figure size 432x288 with 1 Axes>"
            ],
            "image/png": "[encoded data removed]"
          },
          "metadata": {
            "needs_background": "light"
          }
        }
      ]
    },
    {
      "cell_type": "code",
      "source": [
        "sns.countplot(df['education_qual'])\n",
        "df['education_qual'].value_counts()"
      ],
      "metadata": {
        "colab": {
          "base_uri": "https://localhost:8080/",
          "height": 429
        },
        "id": "L9zIN9ekEBsr",
        "outputId": "40bfed62-7124-4f52-c1da-49629d475ce2"
      },
      "execution_count": null,
      "outputs": [
        {
          "output_type": "stream",
          "name": "stderr",
          "text": [
            "/usr/local/lib/python3.8/dist-packages/seaborn/_decorators.py:36: FutureWarning: Pass the following variable as a keyword arg: x. From version 0.12, the only valid positional argument will be `data`, and passing other arguments without an explicit keyword will result in an error or misinterpretation.\n",
            "  warnings.warn(\n"
          ]
        },
        {
          "output_type": "execute_result",
          "data": {
            "text/plain": [
              "secondary    23202\n",
              "tertiary     13301\n",
              "primary       6851\n",
              "unknown       1857\n",
              "Name: education_qual, dtype: int64"
            ]
          },
          "metadata": {},
          "execution_count": 131
        },
        {
          "output_type": "display_data",
          "data": {
            "text/plain": [
              "<Figure size 432x288 with 1 Axes>"
            ],
            "image/png": "[encoded data removed]"
          },
          "metadata": {
            "needs_background": "light"
          }
        }
      ]
    },
    {
      "cell_type": "code",
      "source": [
        "sns.countplot(df['dur'])\n"
      ],
      "metadata": {
        "colab": {
          "base_uri": "https://localhost:8080/",
          "height": 354
        },
        "id": "5ygQKgilGKz3",
        "outputId": "0d20ec5a-6b08-46aa-a76f-c50a2256b45f"
      },
      "execution_count": null,
      "outputs": [
        {
          "output_type": "stream",
          "name": "stderr",
          "text": [
            "/usr/local/lib/python3.8/dist-packages/seaborn/_decorators.py:36: FutureWarning: Pass the following variable as a keyword arg: x. From version 0.12, the only valid positional argument will be `data`, and passing other arguments without an explicit keyword will result in an error or misinterpretation.\n",
            "  warnings.warn(\n"
          ]
        },
        {
          "output_type": "execute_result",
          "data": {
            "text/plain": [
              "<AxesSubplot:xlabel='dur', ylabel='count'>"
            ]
          },
          "metadata": {},
          "execution_count": 143
        },
        {
          "output_type": "display_data",
          "data": {
            "text/plain": [
              "<Figure size 432x288 with 1 Axes>"
            ],
            "image/png": "[encoded data removed]"
          },
          "metadata": {
            "needs_background": "light"
          }
        }
      ]
    },
    {
      "cell_type": "code",
      "source": [
        "sns.boxplot(x=df['education_qual'], y=df['age'])"
      ],
      "metadata": {
        "colab": {
          "base_uri": "https://localhost:8080/",
          "height": 298
        },
        "id": "FHnKb7PIEBo2",
        "outputId": "6368da53-2817-472f-92a0-21ca281113f1"
      },
      "execution_count": null,
      "outputs": [
        {
          "output_type": "execute_result",
          "data": {
            "text/plain": [
              "<AxesSubplot:xlabel='education_qual', ylabel='age'>"
            ]
          },
          "metadata": {},
          "execution_count": 149
        },
        {
          "output_type": "display_data",
          "data": {
            "text/plain": [
              "<Figure size 432x288 with 1 Axes>"
            ],
            "image/png": "[encoded data removed]"
          },
          "metadata": {
            "needs_background": "light"
          }
        }
      ]
    },
    {
      "cell_type": "code",
      "source": [
        "df.mean()\n"
      ],
      "metadata": {
        "colab": {
          "base_uri": "https://localhost:8080/"
        },
        "id": "KNkhFc3sI_ix",
        "outputId": "b0f340f9-70f3-4627-d62b-c357451474a7"
      },
      "execution_count": null,
      "outputs": [
        {
          "output_type": "stream",
          "name": "stderr",
          "text": [
            "<ipython-input-152-c61f0c8f89b5>:1: FutureWarning: Dropping of nuisance columns in DataFrame reductions (with 'numeric_only=None') is deprecated; in a future version this will raise TypeError.  Select only valid columns before calling the reduction.\n",
            "  df.mean()\n"
          ]
        },
        {
          "output_type": "execute_result",
          "data": {
            "text/plain": [
              "age           40.936210\n",
              "call_type      0.090274\n",
              "day           15.806419\n",
              "dur          258.163080\n",
              "num_calls      2.763841\n",
              "dtype: float64"
            ]
          },
          "metadata": {},
          "execution_count": 152
        }
      ]
    },
    {
      "cell_type": "code",
      "source": [
        "df.std()\n"
      ],
      "metadata": {
        "colab": {
          "base_uri": "https://localhost:8080/"
        },
        "id": "sPOHMUopMDB7",
        "outputId": "c222c615-7f3b-4629-c631-bdb808202225"
      },
      "execution_count": null,
      "outputs": [
        {
          "output_type": "stream",
          "name": "stderr",
          "text": [
            "<ipython-input-154-ce97bb7eaef8>:1: FutureWarning: Dropping of nuisance columns in DataFrame reductions (with 'numeric_only=None') is deprecated; in a future version this will raise TypeError.  Select only valid columns before calling the reduction.\n",
            "  df.std()\n"
          ]
        },
        {
          "output_type": "execute_result",
          "data": {
            "text/plain": [
              "age           10.618762\n",
              "call_type      0.286578\n",
              "day            8.322476\n",
              "dur          257.527812\n",
              "num_calls      3.098021\n",
              "dtype: float64"
            ]
          },
          "metadata": {},
          "execution_count": 154
        }
      ]
    },
    {
      "cell_type": "code",
      "source": [],
      "metadata": {
        "id": "L2yt-MVvMCeH"
      },
      "execution_count": null,
      "outputs": []
    },
    {
      "cell_type": "markdown",
      "metadata": {
        "id": "Y2uPCv_O43wN"
      },
      "source": [
        "# Notebook template"
      ]
    },
    {
      "cell_type": "markdown",
      "metadata": {
        "id": "8w2UKUVC4rs6"
      },
      "source": [
        "<table class=\"tfo-notebook-buttons\" align=\"left\">\n",
        "  <td>\n",
        "    <a target=\"_blank\" href=\"https://quantumai.google/cirq/tutorials/google/colab\"><img src=\"https://quantumai.google/site-assets/images/buttons/quantumai_logo_1x.png\" />View on QuantumAI</a>\n",
        "  </td>\n",
        "  <td>\n",
        "    <a target=\"_blank\" href=\"https://colab.research.google.com/github/quantumlib/Cirq/blob/master/docs/tutorials/google/colab.ipynb\"><img src=\"https://quantumai.google/site-assets/images/buttons/colab_logo_1x.png\" />Run in Google Colab</a>\n",
        "  </td>\n",
        "  <td>\n",
        "    <a target=\"_blank\" href=\"https://github.com/quantumlib/Cirq/blob/master/docs/tutorials/google/colab.ipynb\"><img src=\"https://quantumai.google/site-assets/images/buttons/github_logo_1x.png\" />View source on GitHub</a>\n",
        "  </td>\n",
        "  <td>\n",
        "    <a href=\"https://storage.googleapis.com/tensorflow_docs/Cirq/docs/tutorials/google/colab.ipynb\"><img src=\"https://quantumai.google/site-assets/images/buttons/download_icon_1x.png\" />Download notebook</a>\n",
        "  </td>\n",
        "</table>"
      ]
    },
    {
      "cell_type": "markdown",
      "metadata": {
        "id": "fe7e28f44667"
      },
      "source": [
        "## Setup\n",
        "Note: this notebook relies on unreleased Cirq features. If you want to try these features, make sure you install cirq via `pip install cirq --pre`."
      ]
    },
    {
      "cell_type": "code",
      "execution_count": null,
      "metadata": {
        "id": "bd9529db1c0b"
      },
      "outputs": [],
      "source": [
        "try:\n",
        "    import cirq\n",
        "    import cirq_google\n",
        "except ImportError:\n",
        "    print(\"installing cirq...\")\n",
        "    !pip install --quiet cirq-google --pre\n",
        "    print(\"installed cirq.\")\n",
        "    import cirq\n",
        "    import cirq_google"
      ]
    },
    {
      "cell_type": "markdown",
      "metadata": {
        "id": "iBW4Iix64cFn"
      },
      "source": [
        "## Make a copy of this template\n",
        "\n",
        "You will need to have access to Quantum Computing Service before running this colab.\n",
        "\n",
        "This notebook can serve as a starter kit for you to run programs on Google's quantum hardware.  You can download it using the directions below, open it in colab (or Jupyter), and modify it to begin your experiments."
      ]
    },
    {
      "cell_type": "markdown",
      "metadata": {
        "id": "6q5lpwgW5TrE"
      },
      "source": [
        "## How to download iPython notebooks from GitHub\n",
        "\n",
        "You can retrieve iPython notebooks in the Cirq repository by\n",
        "going to the [docs/ directory](https://github.com/quantumlib/Cirq/tree/master/docs).  For instance, this Colab template is found [here](https://github.com/quantumlib/Cirq/blob/master/docs/tutorials/google/colab.ipynb). Select the file that you would like to download and then click the *Raw* button in the upper-right part of the window:\n",
        "\n",
        "<img src=\"https://raw.githubusercontent.com/quantumlib/Cirq/master/docs/images/colab_github.png\" alt=\"GitHub UI button to view raw file\">\n",
        "\n",
        "This will show the entire file contents.  Right-click and select *Save as* to save this file to your computer.  Make sure to save to a file with a `.ipynb` extension (you may need to select *All files* from the format dropdown instead of *text*). You can also get to this Colab's [raw content directly](https://raw.githubusercontent.com/quantumlib/Cirq/master/docs/tutorials/google/colab.ipynb)\n",
        "\n",
        "You can also retrieve the entire Cirq repository by running the following command in a terminal that has `git` installed:\n",
        "\n",
        "```\n",
        "git checkout https://github.com/quantumlib/Cirq.git\n",
        "```"
      ]
    },
    {
      "cell_type": "markdown",
      "metadata": {
        "id": "czt1fSEHooF9"
      },
      "source": [
        "## How to open Google Colab\n",
        "\n",
        "You can open a new Colab notebook from your Google Drive window or by visiting the [Colab site](https://colab.research.google.com/notebooks/intro.ipynb).  From the Colaboratory site, you can use the menu to upload an iPython notebook:\n",
        "\n",
        "<img src=\"https://raw.githubusercontent.com/quantumlib/Cirq/master/docs/images/colab_upload.png\" alt=\"Google Colab's upload notebook entry in File menu.\">\n",
        "\n",
        "This will upload the ipynb file that you downloaded before.  You can now run all the commands, modify it to suit your goals, and share it with others.\n",
        "\n",
        "### More Documentation Links\n",
        "\n",
        "* [Quantum Engine concepts](/cirq/google/concepts.md)\n",
        "* [Quantum Engine documentation](/cirq/google/engine.md)\n",
        "* [Cirq documentation](https://quantumai.google/cirq)\n",
        "* [Colab documentation](https://colab.research.google.com/notebooks/welcome.ipynb)\n"
      ]
    },
    {
      "cell_type": "markdown",
      "metadata": {
        "id": "Bip6ZAIQ6min"
      },
      "source": [
        "## Authenticate with Quantum Computing Service and install Cirq\n",
        "\n",
        "For details of authentication and installation, please see [Get started with Quantum Computing Service](start.ipynb).\n",
        "\n",
        "Note:  The below code will install the latest stable release of Cirq.  If you need the latest and greatest features and don't mind if a few things aren't quite working correctly, you can install the pre-release version of `cirq` using `pip install --pre cirq` instead of `pip install cirq` to get the most up-to-date features of Cirq.\n",
        "\n",
        "1. Enter the Cloud project ID you'd like to use in the `project_id` field.\n",
        "2. Then run the cell below (and go through the auth flow for access to the project id you entered).\n",
        "\n",
        "<img src=\"https://raw.githubusercontent.com/quantumlib/Cirq/master/docs/images/run-code-block.png\" alt=\"Quantum Engine console\">"
      ]
    },
    {
      "cell_type": "code",
      "execution_count": null,
      "metadata": {
        "id": "wfHdoHW67EGh",
        "colab": {
          "base_uri": "https://localhost:8080/"
        },
        "outputId": "dfff4bd4-73f7-4461-9b8e-c2eb2b9b0923"
      },
      "outputs": [
        {
          "output_type": "stream",
          "name": "stdout",
          "text": [
            "Available processors: ['rainbow', 'weber']\n",
            "Using processor: rainbow\n"
          ]
        }
      ],
      "source": [
        "# The Google Cloud Project id to use.\n",
        "project_id = '' #@param {type:\"string\"}\n",
        "processor_id = \"\" #@param {type:\"string\"}\n",
        "\n",
        "from cirq_google.engine.qcs_notebook import get_qcs_objects_for_notebook\n",
        "# For real engine instances, delete 'virtual=True' below.\n",
        "qcs_objects = get_qcs_objects_for_notebook(project_id, processor_id, virtual=True)\n",
        "engine = qcs_objects.engine\n",
        "processor_id = qcs_objects.processor_id"
      ]
    },
    {
      "cell_type": "markdown",
      "metadata": {
        "id": "5mwzenpB8FYi"
      },
      "source": [
        "## Create an Engine variable\n",
        "\n",
        "The following creates an engine variable which can be used to run programs under the project ID you entered above."
      ]
    },
    {
      "cell_type": "code",
      "execution_count": null,
      "metadata": {
        "id": "HCb_9m_o8KEK",
        "colab": {
          "base_uri": "https://localhost:8080/"
        },
        "outputId": "f5949aab-737c-4da8-e4fd-2e938dbdaf04"
      },
      "outputs": [
        {
          "output_type": "stream",
          "name": "stdout",
          "text": [
            "Successful authentication using project !\n",
            "Available Processors: \n",
            "[<cirq_google.engine.simulated_local_processor.SimulatedLocalProcessor object at 0x7f36eddbd1f0>, <cirq_google.engine.simulated_local_processor.SimulatedLocalProcessor object at 0x7f36edd6adc0>]\n",
            "Using processor: rainbow\n"
          ]
        }
      ],
      "source": [
        "from google.auth.exceptions import DefaultCredentialsError\n",
        "from google.api_core.exceptions import PermissionDenied\n",
        "\n",
        "# Create an Engine object to use, providing the project id and the args\n",
        "try: \n",
        "    if qcs_objects.signed_in: # This line only needed for colab testing.\n",
        "        engine = cirq_google.get_engine()\n",
        "    print(f\"Successful authentication using project {project_id}!\")\n",
        "    print('Available Processors: ')\n",
        "    print(engine.list_processors())\n",
        "    print(f'Using processor: {processor_id}')\n",
        "    processor = engine.get_processor(processor_id)\n",
        "except DefaultCredentialsError as err: \n",
        "    print(\"Could not authenticate to Google Quantum Computing Service.\")\n",
        "    print(\" Tips: If you are using Colab: make sure the previous cell was executed successfully.\")\n",
        "    print(\"       If this notebook is not in Colab (e.g. Jupyter notebook), make sure gcloud is installed and `gcloud auth application-default login` was executed.\")\n",
        "    print()\n",
        "    print(\"Error message:\")\n",
        "    print(err)\n",
        "except PermissionDenied as err:\n",
        "    print(f\"While you are authenticated to Google Cloud it seems the project '{project_id}' does not exist or does not have the Quantum Engine API enabled.\")\n",
        "    print(\"Error message:\")\n",
        "    print(err)"
      ]
    },
    {
      "cell_type": "markdown",
      "metadata": {
        "id": "XEG4t_2b8dYx"
      },
      "source": [
        "## Example"
      ]
    },
    {
      "cell_type": "code",
      "execution_count": null,
      "metadata": {
        "id": "xujtwGxt8fOA",
        "colab": {
          "base_uri": "https://localhost:8080/"
        },
        "outputId": "177a9582-6961-4da5-8de9-e4f19eabb75a"
      },
      "outputs": [
        {
          "output_type": "stream",
          "name": "stdout",
          "text": [
            "Success!  Results:\n",
            "0011000111111110101111010100000101100111001111010000110001010000011110101010101111100001010010111101110101000001110100000000101100110000101111010011000110110110010000100110001111100111101100011100110010101011011101011011100001010010100001101011001111001000001111100000111001011001110010010001100111010010100000111000011011010011101000010010110101100010010011000101110110010110100001100100101011100010010010110110100011010110110110011100001011110000010000101000101111001111001101001111010111011101100001100011100000100011011000010100100110101010110010010111110001000101101111101101001101011101100110001011000001010010010101101111111011100010110011010100010000110101110111000001110101011111110011000000011011011111010101010110001010010101011101010001101111010101010110111100101011110011110110001110010111010001110010010100111100101011000110101011110001010100010001100011001001100110010110011011100010000101110001001111100001011111111011110111111110001101011010011010100110101000100101010100000100000100\n"
          ]
        }
      ],
      "source": [
        "# A simple example.\n",
        "q = cirq.GridQubit(5, 2)\n",
        "circuit = cirq.Circuit(cirq.X(q)**0.5, cirq.measure(q, key='m'))\n",
        "\n",
        "job = processor.run_sweep(\n",
        "    program=circuit,\n",
        "    repetitions=1000)\n",
        "\n",
        "results = [str(int(b)) for b in job.results()[0].measurements['m'][:, 0]]\n",
        "print('Success!  Results:')\n",
        "print(''.join(results))"
      ]
    }
  ],
  "metadata": {
    "colab": {
      "provenance": [],
      "include_colab_link": true
    },
    "kernelspec": {
      "display_name": "Python 3",
      "name": "python3"
    }
  },
  "nbformat": 4,
  "nbformat_minor": 0
}