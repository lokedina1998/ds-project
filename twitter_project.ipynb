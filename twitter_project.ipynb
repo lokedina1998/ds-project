{
  "nbformat": 4,
  "nbformat_minor": 0,
  "metadata": {
    "colab": {
      "provenance": [],
      "authorship_tag": "ABX9TyPTXveS4cgiPpTkh1uEGYkg",
      "include_colab_link": true
    },
    "kernelspec": {
      "name": "python3",
      "display_name": "Python 3"
    },
    "language_info": {
      "name": "python"
    }
  },
  "cells": [
    {
      "cell_type": "markdown",
      "metadata": {
        "id": "view-in-github",
        "colab_type": "text"
      },
      "source": [
        "<a href=\"https://colab.research.google.com/github/lokedina1998/ds-project/blob/main/twitter_project.ipynb\" target=\"_parent\"><img src=\"https://colab.research.google.com/assets/colab-badge.svg\" alt=\"Open In Colab\"/></a>"
      ]
    },
    {
      "cell_type": "code",
      "execution_count": null,
      "metadata": {
        "colab": {
          "base_uri": "https://localhost:8080/"
        },
        "id": "5X5zIRZQ-sEE",
        "outputId": "0313dd6d-9996-4472-a129-030ae1ee59f2"
      },
      "outputs": [
        {
          "output_type": "stream",
          "name": "stdout",
          "text": [
            "Looking in indexes: https://pypi.org/simple, https://us-python.pkg.dev/colab-wheels/public/simple/\n",
            "Collecting snscrape\n",
            "  Downloading snscrape-0.5.0.20230113-py3-none-any.whl (69 kB)\n",
            "\u001b[2K     \u001b[90m━━━━━━━━━━━━━━━━━━━━━━━━━━━━━━━━━━━━━━━━\u001b[0m \u001b[32m69.2/69.2 KB\u001b[0m \u001b[31m6.2 MB/s\u001b[0m eta \u001b[36m0:00:00\u001b[0m\n",
            "\u001b[?25hRequirement already satisfied: pytz in /usr/local/lib/python3.8/dist-packages (from snscrape) (2022.7)\n",
            "Requirement already satisfied: filelock in /usr/local/lib/python3.8/dist-packages (from snscrape) (3.9.0)\n",
            "Requirement already satisfied: beautifulsoup4 in /usr/local/lib/python3.8/dist-packages (from snscrape) (4.6.3)\n",
            "Requirement already satisfied: requests[socks] in /usr/local/lib/python3.8/dist-packages (from snscrape) (2.25.1)\n",
            "Requirement already satisfied: lxml in /usr/local/lib/python3.8/dist-packages (from snscrape) (4.9.2)\n",
            "Requirement already satisfied: idna<3,>=2.5 in /usr/local/lib/python3.8/dist-packages (from requests[socks]->snscrape) (2.10)\n",
            "Requirement already satisfied: chardet<5,>=3.0.2 in /usr/local/lib/python3.8/dist-packages (from requests[socks]->snscrape) (4.0.0)\n",
            "Requirement already satisfied: certifi>=2017.4.17 in /usr/local/lib/python3.8/dist-packages (from requests[socks]->snscrape) (2022.12.7)\n",
            "Requirement already satisfied: urllib3<1.27,>=1.21.1 in /usr/local/lib/python3.8/dist-packages (from requests[socks]->snscrape) (1.24.3)\n",
            "Requirement already satisfied: PySocks!=1.5.7,>=1.5.6 in /usr/local/lib/python3.8/dist-packages (from requests[socks]->snscrape) (1.7.1)\n",
            "Installing collected packages: snscrape\n",
            "Successfully installed snscrape-0.5.0.20230113\n"
          ]
        }
      ],
      "source": [
        "!pip3 install snscrape\n"
      ]
    },
    {
      "cell_type": "code",
      "source": [
        "!snscrape elonmusk"
      ],
      "metadata": {
        "colab": {
          "base_uri": "https://localhost:8080/"
        },
        "id": "sVj0iGIx-uBj",
        "outputId": "f270ba04-e996-4c3c-b39a-4bb83722e720"
      },
      "execution_count": null,
      "outputs": [
        {
          "output_type": "stream",
          "name": "stdout",
          "text": [
            "usage: snscrape\n",
            "       [-h]\n",
            "       [--version]\n",
            "       [--citation]\n",
            "       [-v]\n",
            "       [--dump-locals]\n",
            "       [--retry N]\n",
            "       [-n N]\n",
            "       [-f FORMAT | --jsonl]\n",
            "       [--with-entity]\n",
            "       [--since DATETIME]\n",
            "       [--progress]\n",
            "       SCRAPER\n",
            "       ...\n",
            "snscrape: error: argument SCRAPER: invalid choice: 'elonmusk' (choose from 'facebook-community', 'facebook-group', 'facebook-user', 'instagram-hashtag', 'instagram-location', 'instagram-user', 'mastodon-profile', 'mastodon-toot', 'reddit-search', 'reddit-submission', 'reddit-subreddit', 'reddit-user', 'telegram-channel', 'twitter-hashtag', 'twitter-list-posts', 'twitter-profile', 'twitter-search', 'twitter-trends', 'twitter-tweet', 'twitter-user', 'vkontakte-user', 'weibo-user')\n"
          ]
        }
      ]
    },
    {
      "cell_type": "code",
      "source": [],
      "metadata": {
        "id": "ilCkNq0KMUmd"
      },
      "execution_count": null,
      "outputs": []
    },
    {
      "cell_type": "code",
      "source": [
        "!snscrape --max-results 10 twitter-profile elonmusk"
      ],
      "metadata": {
        "colab": {
          "base_uri": "https://localhost:8080/"
        },
        "id": "l2Q2GKAW_suJ",
        "outputId": "a1169621-0d98-4b26-b6b0-1dd141320756"
      },
      "execution_count": null,
      "outputs": [
        {
          "output_type": "stream",
          "name": "stdout",
          "text": [
            "https://twitter.com/elonmusk/status/1616524886201225217\n",
            "https://twitter.com/elonmusk/status/1617782364222140420\n",
            "https://twitter.com/elonmusk/status/1617728786136727556\n",
            "https://twitter.com/elonmusk/status/1617697416517652480\n",
            "https://twitter.com/elonmusk/status/1617562247567663104\n",
            "https://twitter.com/elonmusk/status/1617561156264263680\n",
            "https://twitter.com/elonmusk/status/1617405134098812934\n",
            "https://twitter.com/elonmusk/status/1617403816034594817\n",
            "https://twitter.com/elonmusk/status/1617399939801415681\n",
            "https://twitter.com/elonmusk/status/1617386889912131584\n"
          ]
        }
      ]
    },
    {
      "cell_type": "code",
      "source": [
        "!snscrape --max-results 30 twitter-hashtag elonmusk"
      ],
      "metadata": {
        "colab": {
          "base_uri": "https://localhost:8080/"
        },
        "id": "1EP7v1lDLxKY",
        "outputId": "38f6a315-8b98-46a0-d46a-ba5eab4ca24d"
      },
      "execution_count": null,
      "outputs": [
        {
          "output_type": "stream",
          "name": "stdout",
          "text": [
            "https://twitter.com/Emmavalues/status/1617896317891772418\n",
            "https://twitter.com/RonMatta/status/1617895996935254019\n",
            "https://twitter.com/the_detechtor/status/1617895966849531904\n",
            "https://twitter.com/Aakashchohan14/status/1617895414472278022\n",
            "https://twitter.com/BusinessdOr/status/1617895273824681986\n",
            "https://twitter.com/JagdipSanghera/status/1617895195844177920\n",
            "https://twitter.com/JagdipSanghera/status/1617895053200097281\n",
            "https://twitter.com/JagdipSanghera/status/1617894938133528576\n",
            "https://twitter.com/Businesblog5/status/1617894884807147521\n",
            "https://twitter.com/DougHederer/status/1617894468283420678\n",
            "https://twitter.com/SteelProphet_/status/1617894175936249858\n",
            "https://twitter.com/PleasantSerrece/status/1617894142058852356\n",
            "https://twitter.com/MysteriousCaw/status/1617894131849912325\n",
            "https://twitter.com/ZaineGriffOffic/status/1617893940769816580\n",
            "https://twitter.com/SameMuskMaxwell/status/1617893321657167873\n",
            "https://twitter.com/rdgresident/status/1617893096175566848\n",
            "https://twitter.com/HarvardCorpGov/status/1617892893338865672\n",
            "https://twitter.com/nasreenalissa/status/1617892892634386436\n",
            "https://twitter.com/MuskDao1/status/1617892831011700738\n",
            "https://twitter.com/7Venus7Mercury7/status/1617892436596117504\n",
            "https://twitter.com/MariaDeSuede/status/1617892140436295680\n",
            "https://twitter.com/EmuskIsClown/status/1617892131024027649\n",
            "https://twitter.com/Excellence_MZ/status/1617891760516247553\n",
            "https://twitter.com/mykelstetsky/status/1617891650986209283\n",
            "https://twitter.com/AxiilTeam/status/1617891629888835585\n",
            "https://twitter.com/MitulTripathi/status/1617890982799745036\n",
            "https://twitter.com/nftloyaltyclub/status/1617890843192619010\n",
            "https://twitter.com/nftloyaltyclub/status/1617890553521401859\n",
            "https://twitter.com/metadigitallabs/status/1617890276424691715\n",
            "https://twitter.com/metadigitallabs/status/1617890082849193985\n"
          ]
        }
      ]
    },
    {
      "cell_type": "code",
      "source": [
        "import snscrape.modules.twitter as sntwitter\n",
        "import pandas as pd"
      ],
      "metadata": {
        "id": "oIIvuoH1_sRc"
      },
      "execution_count": null,
      "outputs": []
    },
    {
      "cell_type": "code",
      "source": [
        "!snscrape --max-results 5 twitter-search elonmusk\n"
      ],
      "metadata": {
        "colab": {
          "base_uri": "https://localhost:8080/"
        },
        "id": "iaStLsLcL__5",
        "outputId": "d90d418a-53ce-4a13-ea04-b95e8490efa1"
      },
      "execution_count": null,
      "outputs": [
        {
          "output_type": "stream",
          "name": "stdout",
          "text": [
            "https://twitter.com/kantouchthis22/status/1617902417571647495\n",
            "https://twitter.com/Sayitai99309917/status/1617902416976052224\n",
            "https://twitter.com/SloowgamesY/status/1617902412160983041\n",
            "https://twitter.com/iamlaurael/status/1617902411271766019\n",
            "https://twitter.com/CryptoRich0x69/status/1617902400366604290\n"
          ]
        }
      ]
    },
    {
      "cell_type": "code",
      "source": [
        "!snscrape = [[tweet.id, tweet.author_id, tweet.username, tweet.text, tweet.retweets, tweet.favorites, tweet.replies, tweet.date] for tweet in elonmusk]\n"
      ],
      "metadata": {
        "colab": {
          "base_uri": "https://localhost:8080/"
        },
        "id": "XeAU8LK8_d7L",
        "outputId": "252d1016-be37-432e-de85-c8ca9cfd4163"
      },
      "execution_count": null,
      "outputs": [
        {
          "output_type": "stream",
          "name": "stdout",
          "text": [
            "usage: snscrape\n",
            "       [-h]\n",
            "       [--version]\n",
            "       [--citation]\n",
            "       [-v]\n",
            "       [--dump-locals]\n",
            "       [--retry N]\n",
            "       [-n N]\n",
            "       [-f FORMAT | --jsonl]\n",
            "       [--with-entity]\n",
            "       [--since DATETIME]\n",
            "       [--progress]\n",
            "       SCRAPER\n",
            "       ...\n",
            "snscrape: error: argument SCRAPER: invalid choice: '=' (choose from 'facebook-community', 'facebook-group', 'facebook-user', 'instagram-hashtag', 'instagram-location', 'instagram-user', 'mastodon-profile', 'mastodon-toot', 'reddit-search', 'reddit-submission', 'reddit-subreddit', 'reddit-user', 'telegram-channel', 'twitter-hashtag', 'twitter-list-posts', 'twitter-profile', 'twitter-search', 'twitter-trends', 'twitter-tweet', 'twitter-user', 'vkontakte-user', 'weibo-user')\n"
          ]
        }
      ]
    },
    {
      "cell_type": "code",
      "source": [
        "!snscrape --max-results 3 twitter-hashtag elonmusk"
      ],
      "metadata": {
        "colab": {
          "base_uri": "https://localhost:8080/"
        },
        "id": "WnjzV1neJMdy",
        "outputId": "b9fba727-13b7-4749-c71f-c38fd79f5c01"
      },
      "execution_count": null,
      "outputs": [
        {
          "output_type": "stream",
          "name": "stdout",
          "text": [
            "https://twitter.com/Amit74659711/status/1618122061221879809\n",
            "https://twitter.com/the_freed_bird/status/1618122050790621184\n",
            "https://twitter.com/goro1gou/status/1618121840706351105\n"
          ]
        }
      ]
    },
    {
      "cell_type": "code",
      "source": [
        "# Creating a dataframe from the tweets list above\n",
        "!snscrape elonmusk = pd.DataFrame(tweets_list2, columns=['Datetime', 'Tweet Id', 'Text', 'Username'])"
      ],
      "metadata": {
        "colab": {
          "base_uri": "https://localhost:8080/"
        },
        "id": "XDtkLj0HXb_X",
        "outputId": "f8f00f7e-c35a-4793-98fb-88c8a389a8d2"
      },
      "execution_count": null,
      "outputs": [
        {
          "output_type": "stream",
          "name": "stdout",
          "text": [
            "/bin/bash: -c: line 0: syntax error near unexpected token `('\n",
            "/bin/bash: -c: line 0: `snscrape elonmusk = pd.DataFrame(tweets_list2, columns=['Datetime', 'Tweet Id', 'Text', 'Username'])'\n"
          ]
        }
      ]
    },
    {
      "cell_type": "code",
      "source": [],
      "metadata": {
        "id": "1UPjbHvggD5c"
      },
      "execution_count": null,
      "outputs": []
    },
    {
      "cell_type": "code",
      "source": [],
      "metadata": {
        "id": "b9PRc22qbQkx"
      },
      "execution_count": null,
      "outputs": []
    },
    {
      "cell_type": "code",
      "source": [],
      "metadata": {
        "id": "YIwHViqTb4_5"
      },
      "execution_count": null,
      "outputs": []
    }
  ]
}