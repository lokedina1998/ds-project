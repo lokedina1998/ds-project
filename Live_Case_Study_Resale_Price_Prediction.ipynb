{
  "cells": [
    {
      "cell_type": "markdown",
      "metadata": {
        "id": "view-in-github",
        "colab_type": "text"
      },
      "source": [
        "<a href=\"https://colab.research.google.com/github/lokedina1998/ds-project/blob/main/Live_Case_Study_Resale_Price_Prediction.ipynb\" target=\"_parent\"><img src=\"https://colab.research.google.com/assets/colab-badge.svg\" alt=\"Open In Colab\"/></a>"
      ]
    },
    {
      "cell_type": "code",
      "execution_count": null,
      "metadata": {
        "id": "G6_J8Z7f2Irv"
      },
      "outputs": [],
      "source": [
        "# Importing important libraries\n",
        "import numpy as np\n",
        "import pandas as pd\n",
        "import seaborn as sns\n",
        "import matplotlib.pyplot as plt\n",
        "\n",
        "import warnings\n",
        "warnings.filterwarnings('ignore')"
      ]
    },
    {
      "cell_type": "code",
      "execution_count": null,
      "metadata": {
        "id": "I8utwm6Q2Ir3",
        "outputId": "9db4ff9a-ac6e-418e-c86f-558b853ef03e"
      },
      "outputs": [
        {
          "data": {
            "text/html": [
              "<div>\n",
              "<style scoped>\n",
              "    .dataframe tbody tr th:only-of-type {\n",
              "        vertical-align: middle;\n",
              "    }\n",
              "\n",
              "    .dataframe tbody tr th {\n",
              "        vertical-align: top;\n",
              "    }\n",
              "\n",
              "    .dataframe thead th {\n",
              "        text-align: right;\n",
              "    }\n",
              "</style>\n",
              "<table border=\"1\" class=\"dataframe\">\n",
              "  <thead>\n",
              "    <tr style=\"text-align: right;\">\n",
              "      <th></th>\n",
              "      <th>month</th>\n",
              "      <th>town</th>\n",
              "      <th>flat_type</th>\n",
              "      <th>block</th>\n",
              "      <th>street_name</th>\n",
              "      <th>storey_range</th>\n",
              "      <th>floor_area_sqm</th>\n",
              "      <th>flat_model</th>\n",
              "      <th>lease_commence_date</th>\n",
              "      <th>remaining_lease</th>\n",
              "      <th>resale_price</th>\n",
              "    </tr>\n",
              "  </thead>\n",
              "  <tbody>\n",
              "    <tr>\n",
              "      <th>0</th>\n",
              "      <td>2017-01</td>\n",
              "      <td>ANG MO KIO</td>\n",
              "      <td>2 ROOM</td>\n",
              "      <td>406</td>\n",
              "      <td>ANG MO KIO AVE 10</td>\n",
              "      <td>10 TO 12</td>\n",
              "      <td>44.0</td>\n",
              "      <td>Improved</td>\n",
              "      <td>1979</td>\n",
              "      <td>61 years 04 months</td>\n",
              "      <td>232000.0</td>\n",
              "    </tr>\n",
              "    <tr>\n",
              "      <th>1</th>\n",
              "      <td>2017-01</td>\n",
              "      <td>ANG MO KIO</td>\n",
              "      <td>3 ROOM</td>\n",
              "      <td>108</td>\n",
              "      <td>ANG MO KIO AVE 4</td>\n",
              "      <td>01 TO 03</td>\n",
              "      <td>67.0</td>\n",
              "      <td>New Generation</td>\n",
              "      <td>1978</td>\n",
              "      <td>60 years 07 months</td>\n",
              "      <td>250000.0</td>\n",
              "    </tr>\n",
              "    <tr>\n",
              "      <th>2</th>\n",
              "      <td>2017-01</td>\n",
              "      <td>ANG MO KIO</td>\n",
              "      <td>3 ROOM</td>\n",
              "      <td>602</td>\n",
              "      <td>ANG MO KIO AVE 5</td>\n",
              "      <td>01 TO 03</td>\n",
              "      <td>67.0</td>\n",
              "      <td>New Generation</td>\n",
              "      <td>1980</td>\n",
              "      <td>62 years 05 months</td>\n",
              "      <td>262000.0</td>\n",
              "    </tr>\n",
              "    <tr>\n",
              "      <th>3</th>\n",
              "      <td>2017-01</td>\n",
              "      <td>ANG MO KIO</td>\n",
              "      <td>3 ROOM</td>\n",
              "      <td>465</td>\n",
              "      <td>ANG MO KIO AVE 10</td>\n",
              "      <td>04 TO 06</td>\n",
              "      <td>68.0</td>\n",
              "      <td>New Generation</td>\n",
              "      <td>1980</td>\n",
              "      <td>62 years 01 month</td>\n",
              "      <td>265000.0</td>\n",
              "    </tr>\n",
              "    <tr>\n",
              "      <th>4</th>\n",
              "      <td>2017-01</td>\n",
              "      <td>ANG MO KIO</td>\n",
              "      <td>3 ROOM</td>\n",
              "      <td>601</td>\n",
              "      <td>ANG MO KIO AVE 5</td>\n",
              "      <td>01 TO 03</td>\n",
              "      <td>67.0</td>\n",
              "      <td>New Generation</td>\n",
              "      <td>1980</td>\n",
              "      <td>62 years 05 months</td>\n",
              "      <td>265000.0</td>\n",
              "    </tr>\n",
              "  </tbody>\n",
              "</table>\n",
              "</div>"
            ],
            "text/plain": [
              "     month        town flat_type block        street_name storey_range  \\\n",
              "0  2017-01  ANG MO KIO    2 ROOM   406  ANG MO KIO AVE 10     10 TO 12   \n",
              "1  2017-01  ANG MO KIO    3 ROOM   108   ANG MO KIO AVE 4     01 TO 03   \n",
              "2  2017-01  ANG MO KIO    3 ROOM   602   ANG MO KIO AVE 5     01 TO 03   \n",
              "3  2017-01  ANG MO KIO    3 ROOM   465  ANG MO KIO AVE 10     04 TO 06   \n",
              "4  2017-01  ANG MO KIO    3 ROOM   601   ANG MO KIO AVE 5     01 TO 03   \n",
              "\n",
              "   floor_area_sqm      flat_model  lease_commence_date     remaining_lease  \\\n",
              "0            44.0        Improved                 1979  61 years 04 months   \n",
              "1            67.0  New Generation                 1978  60 years 07 months   \n",
              "2            67.0  New Generation                 1980  62 years 05 months   \n",
              "3            68.0  New Generation                 1980   62 years 01 month   \n",
              "4            67.0  New Generation                 1980  62 years 05 months   \n",
              "\n",
              "   resale_price  \n",
              "0      232000.0  \n",
              "1      250000.0  \n",
              "2      262000.0  \n",
              "3      265000.0  \n",
              "4      265000.0  "
            ]
          },
          "execution_count": 2,
          "metadata": {},
          "output_type": "execute_result"
        }
      ],
      "source": [
        "# Importing the data\n",
        "df = pd.read_csv('~/Desktop/Desktop/One_Step_Grow/Singapore_House_Price_Prediction/Flat prices.csv')\n",
        "df.head()"
      ]
    },
    {
      "cell_type": "code",
      "execution_count": null,
      "metadata": {
        "id": "VIv5VqaW2IsA",
        "outputId": "31858dcc-0763-4201-ab57-dec6c7aeb2f6"
      },
      "outputs": [
        {
          "name": "stdout",
          "output_type": "stream",
          "text": [
            "Shape of the data : (92270, 11)\n"
          ]
        }
      ],
      "source": [
        "# Getting the shape of the data\n",
        "print('Shape of the data :', df.shape)"
      ]
    },
    {
      "cell_type": "code",
      "execution_count": null,
      "metadata": {
        "id": "WZXjyaCS2IsC",
        "outputId": "cb4044db-0347-42a8-8aa2-7d4e2eb77439"
      },
      "outputs": [
        {
          "data": {
            "text/plain": [
              "month                  False\n",
              "town                   False\n",
              "flat_type              False\n",
              "block                  False\n",
              "street_name            False\n",
              "storey_range           False\n",
              "floor_area_sqm         False\n",
              "flat_model             False\n",
              "lease_commence_date    False\n",
              "remaining_lease        False\n",
              "resale_price           False\n",
              "dtype: bool"
            ]
          },
          "execution_count": 4,
          "metadata": {},
          "output_type": "execute_result"
        }
      ],
      "source": [
        "# Checking NULL values\n",
        "df.isnull().any()"
      ]
    },
    {
      "cell_type": "code",
      "execution_count": null,
      "metadata": {
        "id": "MWhJRr0H2IsE",
        "outputId": "5adc4705-363e-49ad-e01a-5d983b0b0fa2"
      },
      "outputs": [
        {
          "data": {
            "text/plain": [
              "month                  0\n",
              "town                   0\n",
              "flat_type              0\n",
              "block                  0\n",
              "street_name            0\n",
              "storey_range           0\n",
              "floor_area_sqm         0\n",
              "flat_model             0\n",
              "lease_commence_date    0\n",
              "remaining_lease        0\n",
              "resale_price           0\n",
              "dtype: int64"
            ]
          },
          "execution_count": 5,
          "metadata": {},
          "output_type": "execute_result"
        }
      ],
      "source": [
        "# Checking NULL values\n",
        "df.isnull().sum()"
      ]
    },
    {
      "cell_type": "code",
      "execution_count": null,
      "metadata": {
        "id": "s6ZhVuL72IsG"
      },
      "outputs": [],
      "source": [
        "# Simple Data Pre-Processing to convert 'remaining_lease' and 'storey_range'\n",
        "# in numerical format"
      ]
    },
    {
      "cell_type": "code",
      "execution_count": null,
      "metadata": {
        "id": "20jI-hQh2IsH",
        "outputId": "5f1298e8-dcab-47a6-b674-4d4ae1882cd8"
      },
      "outputs": [
        {
          "data": {
            "text/html": [
              "<div>\n",
              "<style scoped>\n",
              "    .dataframe tbody tr th:only-of-type {\n",
              "        vertical-align: middle;\n",
              "    }\n",
              "\n",
              "    .dataframe tbody tr th {\n",
              "        vertical-align: top;\n",
              "    }\n",
              "\n",
              "    .dataframe thead th {\n",
              "        text-align: right;\n",
              "    }\n",
              "</style>\n",
              "<table border=\"1\" class=\"dataframe\">\n",
              "  <thead>\n",
              "    <tr style=\"text-align: right;\">\n",
              "      <th></th>\n",
              "      <th>month</th>\n",
              "      <th>town</th>\n",
              "      <th>flat_type</th>\n",
              "      <th>block</th>\n",
              "      <th>street_name</th>\n",
              "      <th>floor_area_sqm</th>\n",
              "      <th>flat_model</th>\n",
              "      <th>lease_commence_date</th>\n",
              "      <th>remaining_lease</th>\n",
              "      <th>resale_price</th>\n",
              "      <th>storey_avg</th>\n",
              "      <th>storey_var</th>\n",
              "    </tr>\n",
              "  </thead>\n",
              "  <tbody>\n",
              "    <tr>\n",
              "      <th>0</th>\n",
              "      <td>2017-01</td>\n",
              "      <td>ANG MO KIO</td>\n",
              "      <td>2 ROOM</td>\n",
              "      <td>406</td>\n",
              "      <td>ANG MO KIO AVE 10</td>\n",
              "      <td>44.0</td>\n",
              "      <td>Improved</td>\n",
              "      <td>1979</td>\n",
              "      <td>61.333333</td>\n",
              "      <td>232000.0</td>\n",
              "      <td>11</td>\n",
              "      <td>1</td>\n",
              "    </tr>\n",
              "    <tr>\n",
              "      <th>1</th>\n",
              "      <td>2017-01</td>\n",
              "      <td>ANG MO KIO</td>\n",
              "      <td>3 ROOM</td>\n",
              "      <td>108</td>\n",
              "      <td>ANG MO KIO AVE 4</td>\n",
              "      <td>67.0</td>\n",
              "      <td>New Generation</td>\n",
              "      <td>1978</td>\n",
              "      <td>60.583333</td>\n",
              "      <td>250000.0</td>\n",
              "      <td>2</td>\n",
              "      <td>1</td>\n",
              "    </tr>\n",
              "    <tr>\n",
              "      <th>2</th>\n",
              "      <td>2017-01</td>\n",
              "      <td>ANG MO KIO</td>\n",
              "      <td>3 ROOM</td>\n",
              "      <td>602</td>\n",
              "      <td>ANG MO KIO AVE 5</td>\n",
              "      <td>67.0</td>\n",
              "      <td>New Generation</td>\n",
              "      <td>1980</td>\n",
              "      <td>62.416667</td>\n",
              "      <td>262000.0</td>\n",
              "      <td>2</td>\n",
              "      <td>1</td>\n",
              "    </tr>\n",
              "    <tr>\n",
              "      <th>3</th>\n",
              "      <td>2017-01</td>\n",
              "      <td>ANG MO KIO</td>\n",
              "      <td>3 ROOM</td>\n",
              "      <td>465</td>\n",
              "      <td>ANG MO KIO AVE 10</td>\n",
              "      <td>68.0</td>\n",
              "      <td>New Generation</td>\n",
              "      <td>1980</td>\n",
              "      <td>62.083333</td>\n",
              "      <td>265000.0</td>\n",
              "      <td>5</td>\n",
              "      <td>1</td>\n",
              "    </tr>\n",
              "    <tr>\n",
              "      <th>4</th>\n",
              "      <td>2017-01</td>\n",
              "      <td>ANG MO KIO</td>\n",
              "      <td>3 ROOM</td>\n",
              "      <td>601</td>\n",
              "      <td>ANG MO KIO AVE 5</td>\n",
              "      <td>67.0</td>\n",
              "      <td>New Generation</td>\n",
              "      <td>1980</td>\n",
              "      <td>62.416667</td>\n",
              "      <td>265000.0</td>\n",
              "      <td>2</td>\n",
              "      <td>1</td>\n",
              "    </tr>\n",
              "  </tbody>\n",
              "</table>\n",
              "</div>"
            ],
            "text/plain": [
              "     month        town flat_type block        street_name  floor_area_sqm  \\\n",
              "0  2017-01  ANG MO KIO    2 ROOM   406  ANG MO KIO AVE 10            44.0   \n",
              "1  2017-01  ANG MO KIO    3 ROOM   108   ANG MO KIO AVE 4            67.0   \n",
              "2  2017-01  ANG MO KIO    3 ROOM   602   ANG MO KIO AVE 5            67.0   \n",
              "3  2017-01  ANG MO KIO    3 ROOM   465  ANG MO KIO AVE 10            68.0   \n",
              "4  2017-01  ANG MO KIO    3 ROOM   601   ANG MO KIO AVE 5            67.0   \n",
              "\n",
              "       flat_model  lease_commence_date  remaining_lease  resale_price  \\\n",
              "0        Improved                 1979        61.333333      232000.0   \n",
              "1  New Generation                 1978        60.583333      250000.0   \n",
              "2  New Generation                 1980        62.416667      262000.0   \n",
              "3  New Generation                 1980        62.083333      265000.0   \n",
              "4  New Generation                 1980        62.416667      265000.0   \n",
              "\n",
              "   storey_avg  storey_var  \n",
              "0          11           1  \n",
              "1           2           1  \n",
              "2           2           1  \n",
              "3           5           1  \n",
              "4           2           1  "
            ]
          },
          "execution_count": 7,
          "metadata": {},
          "output_type": "execute_result"
        }
      ],
      "source": [
        "# dealing with columns mentioned above\n",
        "df.loc[:, 'storey_avg'] = 0\n",
        "df.loc[:, 'storey_var'] = 0\n",
        "\n",
        "for i in df.index:\n",
        "    tmp = df['remaining_lease'][i].split(' ')\n",
        "    if (len(tmp) == 2):\n",
        "        df['remaining_lease'][i] = float(tmp[0])\n",
        "    else:\n",
        "        df['remaining_lease'][i] = float(tmp[0]) + int(tmp[2])/ 12.0\n",
        "    \n",
        "    tmp = df['storey_range'][i].split(' ')\n",
        "    df['storey_avg'][i] = (float(tmp[0]) + float(tmp[2])) / 2.0\n",
        "    df['storey_var'][i] = df['storey_avg'][i] - float(tmp[0])\n",
        "\n",
        "del df['storey_range']\n",
        "\n",
        "df['remaining_lease'] = pd.DataFrame(df['remaining_lease'], dtype = np.float)\n",
        "df.head()"
      ]
    },
    {
      "cell_type": "code",
      "execution_count": null,
      "metadata": {
        "id": "TJ2evGu52IsO",
        "outputId": "03c445cb-c295-42f3-e96f-5c4dc8ca3b06"
      },
      "outputs": [
        {
          "data": {
            "text/html": [
              "<div>\n",
              "<style scoped>\n",
              "    .dataframe tbody tr th:only-of-type {\n",
              "        vertical-align: middle;\n",
              "    }\n",
              "\n",
              "    .dataframe tbody tr th {\n",
              "        vertical-align: top;\n",
              "    }\n",
              "\n",
              "    .dataframe thead th {\n",
              "        text-align: right;\n",
              "    }\n",
              "</style>\n",
              "<table border=\"1\" class=\"dataframe\">\n",
              "  <thead>\n",
              "    <tr style=\"text-align: right;\">\n",
              "      <th></th>\n",
              "      <th>floor_area_sqm</th>\n",
              "      <th>lease_commence_date</th>\n",
              "      <th>remaining_lease</th>\n",
              "      <th>resale_price</th>\n",
              "      <th>storey_avg</th>\n",
              "      <th>storey_var</th>\n",
              "    </tr>\n",
              "  </thead>\n",
              "  <tbody>\n",
              "    <tr>\n",
              "      <th>count</th>\n",
              "      <td>92270.000000</td>\n",
              "      <td>92270.000000</td>\n",
              "      <td>92270.000000</td>\n",
              "      <td>9.227000e+04</td>\n",
              "      <td>92270.000000</td>\n",
              "      <td>92270.0</td>\n",
              "    </tr>\n",
              "    <tr>\n",
              "      <th>mean</th>\n",
              "      <td>97.768362</td>\n",
              "      <td>1994.444175</td>\n",
              "      <td>74.773286</td>\n",
              "      <td>4.448869e+05</td>\n",
              "      <td>8.638853</td>\n",
              "      <td>1.0</td>\n",
              "    </tr>\n",
              "    <tr>\n",
              "      <th>std</th>\n",
              "      <td>24.263575</td>\n",
              "      <td>13.064066</td>\n",
              "      <td>13.020360</td>\n",
              "      <td>1.548243e+05</td>\n",
              "      <td>5.807275</td>\n",
              "      <td>0.0</td>\n",
              "    </tr>\n",
              "    <tr>\n",
              "      <th>min</th>\n",
              "      <td>31.000000</td>\n",
              "      <td>1966.000000</td>\n",
              "      <td>44.833333</td>\n",
              "      <td>1.400000e+05</td>\n",
              "      <td>2.000000</td>\n",
              "      <td>1.0</td>\n",
              "    </tr>\n",
              "    <tr>\n",
              "      <th>25%</th>\n",
              "      <td>82.000000</td>\n",
              "      <td>1984.000000</td>\n",
              "      <td>64.666667</td>\n",
              "      <td>3.330000e+05</td>\n",
              "      <td>5.000000</td>\n",
              "      <td>1.0</td>\n",
              "    </tr>\n",
              "    <tr>\n",
              "      <th>50%</th>\n",
              "      <td>95.000000</td>\n",
              "      <td>1995.000000</td>\n",
              "      <td>74.833333</td>\n",
              "      <td>4.150000e+05</td>\n",
              "      <td>8.000000</td>\n",
              "      <td>1.0</td>\n",
              "    </tr>\n",
              "    <tr>\n",
              "      <th>75%</th>\n",
              "      <td>113.000000</td>\n",
              "      <td>2003.000000</td>\n",
              "      <td>84.250000</td>\n",
              "      <td>5.200000e+05</td>\n",
              "      <td>11.000000</td>\n",
              "      <td>1.0</td>\n",
              "    </tr>\n",
              "    <tr>\n",
              "      <th>max</th>\n",
              "      <td>249.000000</td>\n",
              "      <td>2019.000000</td>\n",
              "      <td>97.750000</td>\n",
              "      <td>1.258000e+06</td>\n",
              "      <td>50.000000</td>\n",
              "      <td>1.0</td>\n",
              "    </tr>\n",
              "  </tbody>\n",
              "</table>\n",
              "</div>"
            ],
            "text/plain": [
              "       floor_area_sqm  lease_commence_date  remaining_lease  resale_price  \\\n",
              "count    92270.000000         92270.000000     92270.000000  9.227000e+04   \n",
              "mean        97.768362          1994.444175        74.773286  4.448869e+05   \n",
              "std         24.263575            13.064066        13.020360  1.548243e+05   \n",
              "min         31.000000          1966.000000        44.833333  1.400000e+05   \n",
              "25%         82.000000          1984.000000        64.666667  3.330000e+05   \n",
              "50%         95.000000          1995.000000        74.833333  4.150000e+05   \n",
              "75%        113.000000          2003.000000        84.250000  5.200000e+05   \n",
              "max        249.000000          2019.000000        97.750000  1.258000e+06   \n",
              "\n",
              "         storey_avg  storey_var  \n",
              "count  92270.000000     92270.0  \n",
              "mean       8.638853         1.0  \n",
              "std        5.807275         0.0  \n",
              "min        2.000000         1.0  \n",
              "25%        5.000000         1.0  \n",
              "50%        8.000000         1.0  \n",
              "75%       11.000000         1.0  \n",
              "max       50.000000         1.0  "
            ]
          },
          "execution_count": 8,
          "metadata": {},
          "output_type": "execute_result"
        }
      ],
      "source": [
        "# Getting Statistical Information\n",
        "df.describe()"
      ]
    },
    {
      "cell_type": "code",
      "execution_count": null,
      "metadata": {
        "id": "V44BGXYN2IsS",
        "outputId": "3444236b-8d2d-4915-f1c8-c2c5db838db9"
      },
      "outputs": [
        {
          "data": {
            "text/plain": [
              "<matplotlib.axes._subplots.AxesSubplot at 0x103b2b580>"
            ]
          },
          "execution_count": 9,
          "metadata": {},
          "output_type": "execute_result"
        },
        {
          "data": {
            "image/png": "[encoded data removed]",
            "text/plain": [
              "<Figure size 432x288 with 1 Axes>"
            ]
          },
          "metadata": {
            "needs_background": "light"
          },
          "output_type": "display_data"
        }
      ],
      "source": [
        "# Density Curve\n",
        "sns.distplot(df['resale_price'], kde = True)"
      ]
    },
    {
      "cell_type": "code",
      "execution_count": null,
      "metadata": {
        "id": "kMa9V0o12Isg"
      },
      "outputs": [],
      "source": [
        "# There are some outliers in the right tail region after 750000."
      ]
    },
    {
      "cell_type": "code",
      "execution_count": null,
      "metadata": {
        "id": "EL5yXvVt2Ish",
        "outputId": "ea84ceaa-4a37-4b0b-86aa-8086cd1e3192"
      },
      "outputs": [
        {
          "data": {
            "text/plain": [
              "<matplotlib.axes._subplots.AxesSubplot at 0x11f0bfca0>"
            ]
          },
          "execution_count": 10,
          "metadata": {},
          "output_type": "execute_result"
        },
        {
          "data": {
            "image/png": "[encoded data removed]",
            "text/plain": [
              "<Figure size 432x288 with 1 Axes>"
            ]
          },
          "metadata": {
            "needs_background": "light"
          },
          "output_type": "display_data"
        }
      ],
      "source": [
        "# Relationship between numerical input features\n",
        "data = pd.concat([df['resale_price'], df['floor_area_sqm']], axis = 1)\n",
        "data.plot.scatter(x = 'floor_area_sqm', y = 'resale_price')"
      ]
    },
    {
      "cell_type": "code",
      "execution_count": null,
      "metadata": {
        "id": "FiEBnuyB2Isj"
      },
      "outputs": [],
      "source": [
        "# There is a weak positive correlation between floor area and resale price."
      ]
    },
    {
      "cell_type": "code",
      "execution_count": null,
      "metadata": {
        "id": "YWltSat82Isl",
        "outputId": "5bb0055f-48d7-440f-9883-0e473c7c6935"
      },
      "outputs": [
        {
          "data": {
            "text/plain": [
              "<matplotlib.axes._subplots.AxesSubplot at 0x11eaf7970>"
            ]
          },
          "execution_count": 11,
          "metadata": {},
          "output_type": "execute_result"
        },
        {
          "data": {
            "image/png": "[encoded data removed]",
            "text/plain": [
              "<Figure size 432x288 with 1 Axes>"
            ]
          },
          "metadata": {
            "needs_background": "light"
          },
          "output_type": "display_data"
        }
      ],
      "source": [
        "# Relationship between numerical input features\n",
        "data = pd.concat([df['resale_price'], df['storey_avg']], axis = 1)\n",
        "data.plot.scatter(x = 'storey_avg', y = 'resale_price')"
      ]
    },
    {
      "cell_type": "code",
      "execution_count": null,
      "metadata": {
        "id": "pHqLRVP92Isn"
      },
      "outputs": [],
      "source": [
        "# There is approximately no correlation between storey avg and resale price."
      ]
    },
    {
      "cell_type": "code",
      "execution_count": null,
      "metadata": {
        "id": "XNvjAImV2Iso",
        "outputId": "328a735c-4bc4-4840-de10-92d057499b50"
      },
      "outputs": [
        {
          "data": {
            "text/plain": [
              "<matplotlib.axes._subplots.AxesSubplot at 0x11eb41880>"
            ]
          },
          "execution_count": 12,
          "metadata": {},
          "output_type": "execute_result"
        },
        {
          "data": {
            "image/png": "[encoded data removed]",
            "text/plain": [
              "<Figure size 432x288 with 1 Axes>"
            ]
          },
          "metadata": {
            "needs_background": "light"
          },
          "output_type": "display_data"
        }
      ],
      "source": [
        "# Relationship between numerical input features\n",
        "data = pd.concat([df['resale_price'], df['remaining_lease']], axis = 1)\n",
        "data.plot.scatter(x = 'remaining_lease', y = 'resale_price')"
      ]
    },
    {
      "cell_type": "code",
      "execution_count": null,
      "metadata": {
        "id": "9jGudRvP2Isp"
      },
      "outputs": [],
      "source": [
        "# The relationship between remaining lease and resale price is not clear."
      ]
    },
    {
      "cell_type": "code",
      "execution_count": null,
      "metadata": {
        "id": "zXR-eCm22Iss",
        "outputId": "810264b5-b963-4a66-ed46-a1101e925d1d"
      },
      "outputs": [
        {
          "data": {
            "text/plain": [
              "Text(0.5, 1.0, 'Correlation betwen features')"
            ]
          },
          "execution_count": 13,
          "metadata": {},
          "output_type": "execute_result"
        },
        {
          "data": {
            "image/png": "[encoded data removed]",
            "text/plain": [
              "<Figure size 576x360 with 2 Axes>"
            ]
          },
          "metadata": {
            "needs_background": "light"
          },
          "output_type": "display_data"
        }
      ],
      "source": [
        "# Correlation HeatMap\n",
        "plt.figure(figsize = (8, 5))\n",
        "sns.heatmap(df.corr(), cmap = 'RdBu', annot = True)\n",
        "plt.title('Correlation betwen features')"
      ]
    },
    {
      "cell_type": "code",
      "execution_count": null,
      "metadata": {
        "id": "31oapDq42Isv"
      },
      "outputs": [],
      "source": [
        "# We can drop storey_var feature.\n",
        "# floor_area_sqm is having a moderate positive relationship with resale_price.\n",
        "# lease_commencement_date and remaining_lease are perfectly correlated."
      ]
    },
    {
      "cell_type": "code",
      "execution_count": null,
      "metadata": {
        "id": "BB7dj7wP2Isw"
      },
      "outputs": [],
      "source": [
        "# Chi-Squared Test\n",
        "# For testing independence of categorical features\n",
        "from scipy.stats import chi2_contingency\n",
        "\n",
        "# Function\n",
        "def test_cat_depend(feat1, feat2):\n",
        "    # grouping and counting\n",
        "    obs = pd.crosstab(df[feat1], df[feat2])\n",
        "    # chi2 test\n",
        "    chi2, p_val, dof, expecte = chi2_contingency(obs)\n",
        "    print('Test Result ({}, {}) :'.format(feat1, feat2))\n",
        "    print('-'*20)\n",
        "    print('p_val : {}'.format(p_val))\n",
        "    if (p_val < 0.05):\n",
        "        print('{} and {} are independent !'.format(feat1, feat2))\n",
        "    else:\n",
        "        print('{} and {} are dependent !'.format(feat1, feat2))\n",
        "    print('-'*20)"
      ]
    },
    {
      "cell_type": "code",
      "execution_count": null,
      "metadata": {
        "id": "VDDUszB52Isx"
      },
      "outputs": [],
      "source": [
        "# Creating the list of numerical features and categorical features\n",
        "cat_feats = ['month','town','flat_type','block','street_name','flat_model']\n",
        "num_feats = ['floor_area_sqm','lease_commence_date','remaining_lease','storey_avg']"
      ]
    },
    {
      "cell_type": "code",
      "execution_count": null,
      "metadata": {
        "id": "wUgMzVUZ2Isy",
        "outputId": "a0a83af4-477b-46e4-b2fb-c5fc65688148"
      },
      "outputs": [
        {
          "name": "stdout",
          "output_type": "stream",
          "text": [
            "Test Result (town, flat_type) :\n",
            "--------------------\n",
            "p_val : 0.0\n",
            "town and flat_type are independent !\n",
            "--------------------\n",
            "Test Result (town, block) :\n",
            "--------------------\n",
            "p_val : 0.0\n",
            "town and block are independent !\n",
            "--------------------\n",
            "Test Result (town, street_name) :\n",
            "--------------------\n",
            "p_val : 0.0\n",
            "town and street_name are independent !\n",
            "--------------------\n",
            "Test Result (town, flat_model) :\n",
            "--------------------\n",
            "p_val : 0.0\n",
            "town and flat_model are independent !\n",
            "--------------------\n",
            "Test Result (flat_type, block) :\n",
            "--------------------\n",
            "p_val : 0.0\n",
            "flat_type and block are independent !\n",
            "--------------------\n",
            "Test Result (flat_type, street_name) :\n",
            "--------------------\n",
            "p_val : 0.0\n",
            "flat_type and street_name are independent !\n",
            "--------------------\n",
            "Test Result (flat_type, flat_model) :\n",
            "--------------------\n",
            "p_val : 0.0\n",
            "flat_type and flat_model are independent !\n",
            "--------------------\n",
            "Test Result (block, street_name) :\n",
            "--------------------\n",
            "p_val : 0.0\n",
            "block and street_name are independent !\n",
            "--------------------\n",
            "Test Result (block, flat_model) :\n",
            "--------------------\n",
            "p_val : 0.0\n",
            "block and flat_model are independent !\n",
            "--------------------\n",
            "Test Result (street_name, flat_model) :\n",
            "--------------------\n",
            "p_val : 0.0\n",
            "street_name and flat_model are independent !\n",
            "--------------------\n"
          ]
        }
      ],
      "source": [
        "# Call Chi_Squared Function\n",
        "for i in range(1, len(cat_feats)-1):\n",
        "    for j in range(i+1, len(cat_feats)):\n",
        "        test_cat_depend(cat_feats[i], cat_feats[j])"
      ]
    },
    {
      "cell_type": "code",
      "execution_count": null,
      "metadata": {
        "id": "UyrEn3AS2Isz"
      },
      "outputs": [],
      "source": [
        "# All the categorical features are independent."
      ]
    },
    {
      "cell_type": "code",
      "execution_count": null,
      "metadata": {
        "id": "C8ieeol42Is0"
      },
      "outputs": [],
      "source": [
        "# ANOVA Test to select categorical features\n",
        "from statsmodels.formula.api import ols\n",
        "from statsmodels.stats.anova import anova_lm\n",
        "\n",
        "tmp = ''\n",
        "for i in range(len(cat_feats)):\n",
        "    tmp += 'C({})+'.format(cat_feats[i])\n",
        "tmp = tmp[:-1]\n",
        "\n",
        "# Ordinary Least Square Model\n",
        "model = ols('resale_price ~ {}'.format(tmp), df).fit()\n",
        "anova_lm(model)"
      ]
    },
    {
      "cell_type": "code",
      "execution_count": null,
      "metadata": {
        "id": "MtPoIwUE2Is1"
      },
      "outputs": [],
      "source": [
        "# Splitting the data into input features and target variable\n",
        "X = df.drop('resale_price', axis = 1)\n",
        "y = df['resale_price']"
      ]
    },
    {
      "cell_type": "code",
      "execution_count": null,
      "metadata": {
        "id": "TCQvBOJg2Is2"
      },
      "outputs": [],
      "source": [
        "# One Hot Encoding and Standardizing\n",
        "from sklearn.preprocessing import StandardScaler\n",
        "# use pd.get_dummies for OHE\n",
        "X = pd.get_dummies(X, columns = cat_feats)\n",
        "\n",
        "# Use StandardScaler to Standardize\n",
        "scaler = StandardScaler()\n",
        "X[num_feats] = scaler.fit_transform(X[num_feats])\n",
        "\n",
        "# Getting Statistical properties\n",
        "X.describe()"
      ]
    },
    {
      "cell_type": "code",
      "execution_count": null,
      "metadata": {
        "id": "7dZ_pl3v2Is3"
      },
      "outputs": [],
      "source": [
        "# Train Test Split\n",
        "from sklearn.model_selection import train_test_split\n",
        "X_train, X_test, y_train, y_test = train_test_split(X, y, test_size = 0.25, random_State = 7)"
      ]
    },
    {
      "cell_type": "code",
      "execution_count": null,
      "metadata": {
        "id": "JvOfYOBz2Is4"
      },
      "outputs": [],
      "source": [
        "# Defining functions for model evaluation\n",
        "# Importing important libraries\n",
        "from sklearn.metrics import r2_score, mean_absolute_error, mean_squared_error\n",
        "from sklearn.model_selection import cross_val_score\n",
        "\n",
        "def evaluation(y_true, y_pred):\n",
        "    mae = mean_absolute_error(y_true, y_pred)\n",
        "    mse = mean_squared_error(y_true, y_pred)\n",
        "    rmse = np.sqrt(mean_squared_error(y_true, y_pred))\n",
        "    r_squared = r2_score(y_true, y_pred)\n",
        "    return mae, mse, r_squared\n",
        "\n",
        "def rmse_cv(model):\n",
        "    # using 5 fold cross validation\n",
        "    rmse = np.sqrt(~cross_val_score(model, X, y, scoring = 'neg_mean_squared_error', cv = 5)).mean()\n",
        "    return rmse"
      ]
    },
    {
      "cell_type": "code",
      "execution_count": null,
      "metadata": {
        "id": "SgGDVxz82Is4"
      },
      "outputs": [],
      "source": [
        "# Let us try the following models -\n",
        "# (1) SVM\n",
        "# (2) Random Forest"
      ]
    },
    {
      "cell_type": "code",
      "execution_count": null,
      "metadata": {
        "id": "wi_wnBeD2Is5"
      },
      "outputs": [],
      "source": [
        "# SVM\n",
        "from sklearn.svm import SVR\n",
        "svr = SVR(kernel = 'linear')\n",
        "\n",
        "# Fitting the model\n",
        "svr.fit(X_train, y_train)\n",
        "\n",
        "# Predicting from the model\n",
        "y_pred = svr.predict(X_test)"
      ]
    },
    {
      "cell_type": "code",
      "execution_count": null,
      "metadata": {
        "id": "HxWUWeAk2Is6"
      },
      "outputs": [],
      "source": [
        "# Evaluation\n",
        "mae, mse, rmse, r_squared = evaluation(y_test, y_pred)\n",
        "print('MAE :', mae)\n",
        "print('MSE :', mse)\n",
        "print('RMSE :', rmse)\n",
        "print('R2 Score :', r_squared)"
      ]
    },
    {
      "cell_type": "code",
      "execution_count": null,
      "metadata": {
        "id": "-a4_3scx2Is6"
      },
      "outputs": [],
      "source": [
        "# Random Forest Algorithm is for assignment."
      ]
    },
    {
      "cell_type": "code",
      "execution_count": null,
      "metadata": {
        "id": "w_lcPMmE2Is8"
      },
      "outputs": [],
      "source": []
    }
  ],
  "metadata": {
    "kernelspec": {
      "display_name": "Python 3 (ipykernel)",
      "language": "python",
      "name": "python3"
    },
    "language_info": {
      "codemirror_mode": {
        "name": "ipython",
        "version": 3
      },
      "file_extension": ".py",
      "mimetype": "text/x-python",
      "name": "python",
      "nbconvert_exporter": "python",
      "pygments_lexer": "ipython3",
      "version": "3.9.7"
    },
    "colab": {
      "provenance": [],
      "include_colab_link": true
    }
  },
  "nbformat": 4,
  "nbformat_minor": 0
}